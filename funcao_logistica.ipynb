{
 "cells": [
  {
   "cell_type": "code",
   "execution_count": 61,
   "metadata": {},
   "outputs": [],
   "source": [
    "# Importar bibliotecas necessárias\n",
    "import numpy as np\n",
    "import pandas as pd\n",
    "import matplotlib.pyplot as plt\n",
    "from scipy.optimize import curve_fit\n",
    "from datetime import datetime"
   ]
  },
  {
   "cell_type": "code",
   "execution_count": 52,
   "metadata": {},
   "outputs": [],
   "source": [
    "# Definir a função logística ajustada com parâmetro adicional b\n",
    "def logistic_function(x, L, k, x0, b):\n",
    "    return L / (1 + b * np.exp(-k * (x - x0)))"
   ]
  },
  {
   "cell_type": "code",
   "execution_count": 53,
   "metadata": {},
   "outputs": [
    {
     "data": {
      "text/html": [
       "<div>\n",
       "<style scoped>\n",
       "    .dataframe tbody tr th:only-of-type {\n",
       "        vertical-align: middle;\n",
       "    }\n",
       "\n",
       "    .dataframe tbody tr th {\n",
       "        vertical-align: top;\n",
       "    }\n",
       "\n",
       "    .dataframe thead th {\n",
       "        text-align: right;\n",
       "    }\n",
       "</style>\n",
       "<table border=\"1\" class=\"dataframe\">\n",
       "  <thead>\n",
       "    <tr style=\"text-align: right;\">\n",
       "      <th></th>\n",
       "      <th>data</th>\n",
       "      <th>peso</th>\n",
       "    </tr>\n",
       "  </thead>\n",
       "  <tbody>\n",
       "    <tr>\n",
       "      <th>0</th>\n",
       "      <td>2024-02-07</td>\n",
       "      <td>6.50</td>\n",
       "    </tr>\n",
       "    <tr>\n",
       "      <th>1</th>\n",
       "      <td>2024-02-28</td>\n",
       "      <td>8.50</td>\n",
       "    </tr>\n",
       "    <tr>\n",
       "      <th>2</th>\n",
       "      <td>2024-03-08</td>\n",
       "      <td>9.70</td>\n",
       "    </tr>\n",
       "    <tr>\n",
       "      <th>3</th>\n",
       "      <td>2024-03-13</td>\n",
       "      <td>10.50</td>\n",
       "    </tr>\n",
       "    <tr>\n",
       "      <th>4</th>\n",
       "      <td>2024-04-13</td>\n",
       "      <td>13.15</td>\n",
       "    </tr>\n",
       "    <tr>\n",
       "      <th>5</th>\n",
       "      <td>2024-05-04</td>\n",
       "      <td>15.55</td>\n",
       "    </tr>\n",
       "    <tr>\n",
       "      <th>6</th>\n",
       "      <td>2024-05-31</td>\n",
       "      <td>17.80</td>\n",
       "    </tr>\n",
       "    <tr>\n",
       "      <th>7</th>\n",
       "      <td>2024-06-08</td>\n",
       "      <td>18.30</td>\n",
       "    </tr>\n",
       "  </tbody>\n",
       "</table>\n",
       "</div>"
      ],
      "text/plain": [
       "         data   peso\n",
       "0  2024-02-07   6.50\n",
       "1  2024-02-28   8.50\n",
       "2  2024-03-08   9.70\n",
       "3  2024-03-13  10.50\n",
       "4  2024-04-13  13.15\n",
       "5  2024-05-04  15.55\n",
       "6  2024-05-31  17.80\n",
       "7  2024-06-08  18.30"
      ]
     },
     "metadata": {},
     "output_type": "display_data"
    }
   ],
   "source": [
    "# Carregar o conjunto de dados\n",
    "# Substitua 'seu_arquivo.csv' pelo caminho para seu arquivo CSV\n",
    "data = pd.read_csv('pesos.csv')\n",
    "display(data)"
   ]
  },
  {
   "cell_type": "code",
   "execution_count": 54,
   "metadata": {},
   "outputs": [
    {
     "data": {
      "text/plain": [
       "<matplotlib.collections.PathCollection at 0x27920e83910>"
      ]
     },
     "execution_count": 54,
     "metadata": {},
     "output_type": "execute_result"
    },
    {
     "data": {
      "image/png": "[encoded data removed]",
      "text/plain": [
       "<Figure size 1000x400 with 1 Axes>"
      ]
     },
     "metadata": {},
     "output_type": "display_data"
    }
   ],
   "source": [
    "plt.figure(figsize=(10, 4))\n",
    "plt.scatter(data['data'], data['peso'], label='Dados Originais', color='blue')"
   ]
  },
  {
   "cell_type": "code",
   "execution_count": 55,
   "metadata": {},
   "outputs": [],
   "source": [
    "# Certificar-se de que a coluna 'data' é do tipo datetime\n",
    "data['data'] = pd.to_datetime(data['data'])\n",
    "\n",
    "# Converter a coluna de data para dias desde a primeira data\n",
    "data['dias'] = (data['data'] - data['data'].min()).dt.days\n",
    "\n",
    "# Dados de entrada para o ajuste\n",
    "x_data = data['dias']\n",
    "y_data = data['peso']"
   ]
  },
  {
   "cell_type": "markdown",
   "metadata": {},
   "source": [
    "## Significado de cada parâmetro:\n",
    "\n",
    "### L (Valor Máximo):\n",
    "\n",
    "- Descrição: Este parâmetro representa o valor máximo que a função logística pode alcançar.\n",
    "- Significado Prático: Seria o valor máximo possível do peso. É o nível assintótico superior da curva logística.\n",
    "\n",
    "### k (Taxa de Crescimento):\n",
    "\n",
    "- Descrição: Este parâmetro controla a taxa de crescimento da curva logística.\n",
    "- Significado Prático: Determina a rapidez com que o peso aumenta em relação ao tempo (dias). Um valor maior de k resulta em um crescimento mais rápido.\n",
    "​\n",
    "### x0 (Ponto Médio):\n",
    "\n",
    "- Descrição: Este parâmetro indica o valor de x no ponto de inflexão da curva logística, onde a taxa de crescimento é máxima.\n",
    "- Significado Prático: Representa o dia em que o crescimento do peso é mais rápido. Antes desse ponto, o crescimento acelera; depois, o crescimento desacelera.\n",
    "\n",
    "### b (Fator Multiplicativo da Exponencial):\n",
    "\n",
    "- Descrição: Este parâmetro multiplica o termo exponencial e ajusta a curvatura da função logística.\n",
    "- Significado Prático: O valor de b ajusta a inclinação da curva. Ele afeta como a função decresce em direção ao valor mínimo. Um valor maior de b faz com que a transição entre os valores mínimo e máximo seja mais abrupta."
   ]
  },
  {
   "cell_type": "code",
   "execution_count": 56,
   "metadata": {},
   "outputs": [
    {
     "name": "stderr",
     "output_type": "stream",
     "text": [
      "c:\\Users\\willi\\AppData\\Local\\Programs\\Python\\Python311\\Lib\\site-packages\\pandas\\core\\arraylike.py:402: RuntimeWarning: overflow encountered in exp\n",
      "  result = getattr(ufunc, method)(*inputs, **kwargs)\n"
     ]
    },
    {
     "data": {
      "text/html": [
       "<div>\n",
       "<style scoped>\n",
       "    .dataframe tbody tr th:only-of-type {\n",
       "        vertical-align: middle;\n",
       "    }\n",
       "\n",
       "    .dataframe tbody tr th {\n",
       "        vertical-align: top;\n",
       "    }\n",
       "\n",
       "    .dataframe thead th {\n",
       "        text-align: right;\n",
       "    }\n",
       "</style>\n",
       "<table border=\"1\" class=\"dataframe\">\n",
       "  <thead>\n",
       "    <tr style=\"text-align: right;\">\n",
       "      <th></th>\n",
       "      <th>data</th>\n",
       "      <th>peso</th>\n",
       "      <th>dias</th>\n",
       "      <th>peso_logistic</th>\n",
       "    </tr>\n",
       "  </thead>\n",
       "  <tbody>\n",
       "    <tr>\n",
       "      <th>0</th>\n",
       "      <td>2024-02-07</td>\n",
       "      <td>6.50</td>\n",
       "      <td>0</td>\n",
       "      <td>6.621766</td>\n",
       "    </tr>\n",
       "    <tr>\n",
       "      <th>1</th>\n",
       "      <td>2024-02-28</td>\n",
       "      <td>8.50</td>\n",
       "      <td>21</td>\n",
       "      <td>8.652974</td>\n",
       "    </tr>\n",
       "    <tr>\n",
       "      <th>2</th>\n",
       "      <td>2024-03-08</td>\n",
       "      <td>9.70</td>\n",
       "      <td>30</td>\n",
       "      <td>9.592212</td>\n",
       "    </tr>\n",
       "    <tr>\n",
       "      <th>3</th>\n",
       "      <td>2024-03-13</td>\n",
       "      <td>10.50</td>\n",
       "      <td>35</td>\n",
       "      <td>10.125285</td>\n",
       "    </tr>\n",
       "    <tr>\n",
       "      <th>4</th>\n",
       "      <td>2024-04-13</td>\n",
       "      <td>13.15</td>\n",
       "      <td>66</td>\n",
       "      <td>13.448575</td>\n",
       "    </tr>\n",
       "    <tr>\n",
       "      <th>5</th>\n",
       "      <td>2024-05-04</td>\n",
       "      <td>15.55</td>\n",
       "      <td>87</td>\n",
       "      <td>15.523157</td>\n",
       "    </tr>\n",
       "    <tr>\n",
       "      <th>6</th>\n",
       "      <td>2024-05-31</td>\n",
       "      <td>17.80</td>\n",
       "      <td>114</td>\n",
       "      <td>17.749910</td>\n",
       "    </tr>\n",
       "    <tr>\n",
       "      <th>7</th>\n",
       "      <td>2024-06-08</td>\n",
       "      <td>18.30</td>\n",
       "      <td>122</td>\n",
       "      <td>18.299379</td>\n",
       "    </tr>\n",
       "  </tbody>\n",
       "</table>\n",
       "</div>"
      ],
      "text/plain": [
       "        data   peso  dias  peso_logistic\n",
       "0 2024-02-07   6.50     0       6.621766\n",
       "1 2024-02-28   8.50    21       8.652974\n",
       "2 2024-03-08   9.70    30       9.592212\n",
       "3 2024-03-13  10.50    35      10.125285\n",
       "4 2024-04-13  13.15    66      13.448575\n",
       "5 2024-05-04  15.55    87      15.523157\n",
       "6 2024-05-31  17.80   114      17.749910\n",
       "7 2024-06-08  18.30   122      18.299379"
      ]
     },
     "metadata": {},
     "output_type": "display_data"
    }
   ],
   "source": [
    "# Parâmetros iniciais para o ajuste: L, k, x0, b\n",
    "initial_params = [max(y_data), 1, np.median(x_data), 1]\n",
    "\n",
    "# Ajustar a função logística aos dados\n",
    "params, covariance = curve_fit(logistic_function, x_data, y_data, p0=initial_params)\n",
    "\n",
    "# Aplicar a função logística ajustada aos dados\n",
    "data['peso_logistic'] = logistic_function(x_data, *params)\n",
    "\n",
    "# Exibir os primeiros registros do DataFrame\n",
    "display(data)\n"
   ]
  },
  {
   "cell_type": "code",
   "execution_count": 57,
   "metadata": {},
   "outputs": [
    {
     "name": "stdout",
     "output_type": "stream",
     "text": [
      "Parâmetros ajustados: \n",
      "L = 22.47 kg,\n",
      "k = 0.02 dia^(-1),\n",
      "x0 = 137.84 dia,\n",
      "b = 0.17\n"
     ]
    }
   ],
   "source": [
    "# Parâmetros ajustados\n",
    "L, k, x0, b = params\n",
    "print(f'Parâmetros ajustados: \\nL = {L:.2f} kg,\\nk = {k:.2f} dia^(-1),\\nx0 = {x0:.2f} dia,\\nb = {b:.2f}')"
   ]
  },
  {
   "cell_type": "markdown",
   "metadata": {},
   "source": [
    "### Plotar o modelo logístico otimizado aos dados."
   ]
  },
  {
   "cell_type": "code",
   "execution_count": 58,
   "metadata": {},
   "outputs": [],
   "source": [
    "x = np.linspace(0, 400, 1000)\n",
    "y_model = logistic_function(x, L, k, x0, b)"
   ]
  },
  {
   "cell_type": "code",
   "execution_count": 69,
   "metadata": {},
   "outputs": [
    {
     "data": {
      "image/png": "[encoded data removed]",
      "text/plain": [
       "<Figure size 1000x600 with 1 Axes>"
      ]
     },
     "metadata": {},
     "output_type": "display_data"
    }
   ],
   "source": [
    "# Plotar os dados e modelo\n",
    "plt.figure(figsize=(10, 6))\n",
    "plt.scatter(data['dias'], data['peso'], label='Dados Originais', color='blue')\n",
    "plt.plot(x, y_model, label='Ajuste da Função Logística', color='red')\n",
    "plt.xlim([0,x[-1]])\n",
    "plt.xlabel('Dias desde a primeira data')\n",
    "plt.ylabel('Peso (kg)')\n",
    "plt.title('Ajuste da função logística aos dados de peso do Oliver')\n",
    "plt.legend(frameon = False)\n",
    "plt.grid(True,which='both', axis='both', linestyle='-', linewidth=0.3)\n",
    "plt.savefig('peso_Oliver_' + datetime.now().strftime('%Y-'+'%m'+'-%d') + '.png')\n",
    "plt.show()"
   ]
  },
  {
   "cell_type": "code",
   "execution_count": 68,
   "metadata": {},
   "outputs": [
    {
     "name": "stdout",
     "output_type": "stream",
     "text": [
      "2024-06-09\n"
     ]
    }
   ],
   "source": [
    "print(datetime.now().strftime('%Y-'+'%m'+'-%d'))"
   ]
  }
 ],
 "metadata": {
  "kernelspec": {
   "display_name": "Python 3",
   "language": "python",
   "name": "python3"
  },
  "language_info": {
   "codemirror_mode": {
    "name": "ipython",
    "version": 3
   },
   "file_extension": ".py",
   "mimetype": "text/x-python",
   "name": "python",
   "nbconvert_exporter": "python",
   "pygments_lexer": "ipython3",
   "version": "3.11.4"
  }
 },
 "nbformat": 4,
 "nbformat_minor": 2
}
