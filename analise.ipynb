{
 "cells": [
  {
   "cell_type": "code",
   "execution_count": 32,
   "metadata": {},
   "outputs": [],
   "source": [
    "import pandas as pd\n",
    "import numpy as np\n",
    "import matplotlib.pyplot as plt\n",
    "from datetime import datetime"
   ]
  },
  {
   "cell_type": "code",
   "execution_count": 33,
   "metadata": {},
   "outputs": [
    {
     "data": {
      "text/html": [
       "<div>\n",
       "<style scoped>\n",
       "    .dataframe tbody tr th:only-of-type {\n",
       "        vertical-align: middle;\n",
       "    }\n",
       "\n",
       "    .dataframe tbody tr th {\n",
       "        vertical-align: top;\n",
       "    }\n",
       "\n",
       "    .dataframe thead th {\n",
       "        text-align: right;\n",
       "    }\n",
       "</style>\n",
       "<table border=\"1\" class=\"dataframe\">\n",
       "  <thead>\n",
       "    <tr style=\"text-align: right;\">\n",
       "      <th></th>\n",
       "      <th>L</th>\n",
       "      <th>k</th>\n",
       "      <th>x0</th>\n",
       "      <th>b</th>\n",
       "      <th>Data</th>\n",
       "    </tr>\n",
       "  </thead>\n",
       "  <tbody>\n",
       "    <tr>\n",
       "      <th>0</th>\n",
       "      <td>22.473252</td>\n",
       "      <td>0.019270</td>\n",
       "      <td>52.985626</td>\n",
       "      <td>0.862323</td>\n",
       "      <td>09-06-2024</td>\n",
       "    </tr>\n",
       "    <tr>\n",
       "      <th>1</th>\n",
       "      <td>22.599498</td>\n",
       "      <td>0.019126</td>\n",
       "      <td>77.080476</td>\n",
       "      <td>0.551366</td>\n",
       "      <td>22-06-2024</td>\n",
       "    </tr>\n",
       "  </tbody>\n",
       "</table>\n",
       "</div>"
      ],
      "text/plain": [
       "           L         k         x0         b        Data\n",
       "0  22.473252  0.019270  52.985626  0.862323  09-06-2024\n",
       "1  22.599498  0.019126  77.080476  0.551366  22-06-2024"
      ]
     },
     "metadata": {},
     "output_type": "display_data"
    }
   ],
   "source": [
    "params = pd.read_csv(\"parametros.csv\")\n",
    "display(params)"
   ]
  },
  {
   "cell_type": "code",
   "execution_count": 34,
   "metadata": {},
   "outputs": [
    {
     "data": {
      "text/html": [
       "<div>\n",
       "<style scoped>\n",
       "    .dataframe tbody tr th:only-of-type {\n",
       "        vertical-align: middle;\n",
       "    }\n",
       "\n",
       "    .dataframe tbody tr th {\n",
       "        vertical-align: top;\n",
       "    }\n",
       "\n",
       "    .dataframe thead th {\n",
       "        text-align: right;\n",
       "    }\n",
       "</style>\n",
       "<table border=\"1\" class=\"dataframe\">\n",
       "  <thead>\n",
       "    <tr style=\"text-align: right;\">\n",
       "      <th></th>\n",
       "      <th>data</th>\n",
       "      <th>peso</th>\n",
       "    </tr>\n",
       "  </thead>\n",
       "  <tbody>\n",
       "    <tr>\n",
       "      <th>0</th>\n",
       "      <td>2024-02-07</td>\n",
       "      <td>6.50</td>\n",
       "    </tr>\n",
       "    <tr>\n",
       "      <th>1</th>\n",
       "      <td>2024-02-28</td>\n",
       "      <td>8.50</td>\n",
       "    </tr>\n",
       "    <tr>\n",
       "      <th>2</th>\n",
       "      <td>2024-03-08</td>\n",
       "      <td>9.70</td>\n",
       "    </tr>\n",
       "    <tr>\n",
       "      <th>3</th>\n",
       "      <td>2024-03-13</td>\n",
       "      <td>10.50</td>\n",
       "    </tr>\n",
       "    <tr>\n",
       "      <th>4</th>\n",
       "      <td>2024-04-13</td>\n",
       "      <td>13.15</td>\n",
       "    </tr>\n",
       "    <tr>\n",
       "      <th>5</th>\n",
       "      <td>2024-05-04</td>\n",
       "      <td>15.55</td>\n",
       "    </tr>\n",
       "    <tr>\n",
       "      <th>6</th>\n",
       "      <td>2024-05-31</td>\n",
       "      <td>17.80</td>\n",
       "    </tr>\n",
       "    <tr>\n",
       "      <th>7</th>\n",
       "      <td>2024-06-08</td>\n",
       "      <td>18.30</td>\n",
       "    </tr>\n",
       "    <tr>\n",
       "      <th>8</th>\n",
       "      <td>2024-06-22</td>\n",
       "      <td>19.20</td>\n",
       "    </tr>\n",
       "  </tbody>\n",
       "</table>\n",
       "</div>"
      ],
      "text/plain": [
       "         data   peso\n",
       "0  2024-02-07   6.50\n",
       "1  2024-02-28   8.50\n",
       "2  2024-03-08   9.70\n",
       "3  2024-03-13  10.50\n",
       "4  2024-04-13  13.15\n",
       "5  2024-05-04  15.55\n",
       "6  2024-05-31  17.80\n",
       "7  2024-06-08  18.30\n",
       "8  2024-06-22  19.20"
      ]
     },
     "metadata": {},
     "output_type": "display_data"
    }
   ],
   "source": [
    "data = pd.read_csv(\"pesos.csv\")\n",
    "display(data)"
   ]
  },
  {
   "cell_type": "code",
   "execution_count": 39,
   "metadata": {},
   "outputs": [],
   "source": [
    "# Certificar-se de que a coluna 'data' é do tipo datetime\n",
    "data['data'] = pd.to_datetime(data['data'])\n",
    "\n",
    "# Converter a coluna de data para dias desde a primeira data\n",
    "data['dias'] = (data['data'] - data['data'].min()).dt.days\n",
    "\n",
    "# Dados de entrada para o ajuste\n",
    "x_data = data['dias']\n",
    "y_data = data['peso']"
   ]
  },
  {
   "cell_type": "code",
   "execution_count": 67,
   "metadata": {},
   "outputs": [
    {
     "name": "stdout",
     "output_type": "stream",
     "text": [
      "           L        k         x0         b        Data\n",
      "0  22.473252  0.01927  52.985626  0.862323  09-06-2024\n"
     ]
    }
   ],
   "source": [
    "#Escolher modelo\n",
    "data_desejada = '09-06-2024'\n",
    "params_desejados = params.loc[params['Data'] == data_desejada]\n",
    "print(params_desejados)\n",
    "L = params_desejados['L'].values[0]\n",
    "k = params_desejados['k'].values[0]\n",
    "x0 = params_desejados['x0'].values[0]\n",
    "b = params_desejados['b'].values[0]"
   ]
  },
  {
   "cell_type": "code",
   "execution_count": 68,
   "metadata": {},
   "outputs": [],
   "source": [
    "def logistic_function(x, L, k, x0, b):\n",
    "    return L / (1 + b * np.exp(-k * (x - x0)))"
   ]
  },
  {
   "cell_type": "code",
   "execution_count": 69,
   "metadata": {},
   "outputs": [],
   "source": [
    "x = np.linspace(0, 400, 1000)\n",
    "y_model = logistic_function(x, L, k, x0, b)"
   ]
  },
  {
   "cell_type": "code",
   "execution_count": 70,
   "metadata": {},
   "outputs": [
    {
     "data": {
      "image/png": "[encoded data removed]",
      "text/plain": [
       "<Figure size 1000x600 with 1 Axes>"
      ]
     },
     "metadata": {},
     "output_type": "display_data"
    }
   ],
   "source": [
    "plt.figure(figsize=(10, 6))\n",
    "\n",
    "#modelo antigo\n",
    "plt.plot(x, y_model, label='Ajuste da Função Logística em ' + data_desejada, color='red')\n",
    "plt.scatter(data['dias'], data['peso'], label='Dados originais até ' + data['data'].max().strftime('%d-%m-%Y'), color='blue')\n",
    "plt.xlim([0,x[-1]])\n",
    "plt.xlabel('Dias desde a primeira data')\n",
    "plt.ylabel('Peso (kg)')\n",
    "plt.legend(frameon = False)\n",
    "plt.grid(True,which='both', axis='both', linestyle='-', linewidth=0.3)"
   ]
  }
 ],
 "metadata": {
  "kernelspec": {
   "display_name": "Python 3",
   "language": "python",
   "name": "python3"
  },
  "language_info": {
   "codemirror_mode": {
    "name": "ipython",
    "version": 3
   },
   "file_extension": ".py",
   "mimetype": "text/x-python",
   "name": "python",
   "nbconvert_exporter": "python",
   "pygments_lexer": "ipython3",
   "version": "3.11.4"
  }
 },
 "nbformat": 4,
 "nbformat_minor": 2
}
