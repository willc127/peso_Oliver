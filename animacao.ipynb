{
 "cells": [
  {
   "cell_type": "code",
   "execution_count": 21,
   "metadata": {},
   "outputs": [],
   "source": [
    "import os\n",
    "import pygame\n",
    "from datetime import datetime\n",
    "import numpy as np\n",
    "import imageio"
   ]
  },
  {
   "cell_type": "code",
   "execution_count": 22,
   "metadata": {},
   "outputs": [],
   "source": [
    "# Diretório onde suas imagens estão localizadas\n",
    "diretorio_imagens = 'C:/Users/willi/OneDrive/Documentos/DataScience/peso_Oliver'\n",
    "\n",
    "# Listar todos os arquivos no diretório de imagens\n",
    "arquivos_imagens = os.listdir(diretorio_imagens)"
   ]
  },
  {
   "cell_type": "code",
   "execution_count": 23,
   "metadata": {},
   "outputs": [
    {
     "name": "stdout",
     "output_type": "stream",
     "text": [
      "9 imagens\n"
     ]
    }
   ],
   "source": [
    "\n",
    "# Filtrar apenas arquivos de imagem (você pode ajustar para outros formatos de imagem)\n",
    "imagens = [img for img in arquivos_imagens if img.startswith('peso_Oliver_') and img.endswith('.png')]\n",
    "\n",
    "# Ordenar as imagens com base na data no nome do arquivo\n",
    "imagens.sort(key=lambda x: datetime.strptime(x.split('_')[-1].split('.')[0], '%d-%m-%Y'))\n",
    "print(f\"{len(imagens)} imagens\")"
   ]
  },
  {
   "cell_type": "code",
   "execution_count": 24,
   "metadata": {},
   "outputs": [],
   "source": [
    "# Inicializar o pygame\n",
    "pygame.init()\n",
    "\n",
    "# Verificar a maior dimensão de imagem para configurar a janela adequadamente\n",
    "largura_max, altura_max = 0, 0\n",
    "for img in imagens:\n",
    "    imagem = pygame.image.load(os.path.join(diretorio_imagens, img))\n",
    "    largura, altura = imagem.get_size()\n",
    "    largura_max = max(largura_max, largura)\n",
    "    altura_max = max(altura_max, altura)\n",
    "\n",
    "# Ajustar dimensões para serem divisíveis por 16\n",
    "largura_max = (largura_max + 15) // 16 * 16\n",
    "altura_max = (altura_max + 15) // 16 * 16\n",
    "\n",
    "# Configurações da janela\n",
    "largura, altura = largura_max, altura_max\n",
    "tela = pygame.display.set_mode((largura, altura))\n",
    "pygame.display.set_caption('Animação de Imagens')\n",
    "\n",
    "# Loop principal\n",
    "rodando = True\n",
    "indice_imagem = 0\n",
    "clock = pygame.time.Clock()\n",
    "\n",
    "# Lista para armazenar os frames capturados\n",
    "frames = []\n",
    "\n",
    "while rodando:\n",
    "    # Eventos do pygame\n",
    "    for event in pygame.event.get():\n",
    "        if event.type == pygame.QUIT:\n",
    "            rodando = False\n",
    "\n",
    "    # Carregar a próxima imagem na sequência\n",
    "    if indice_imagem < len(imagens):\n",
    "        imagem_atual = pygame.image.load(os.path.join(diretorio_imagens, imagens[indice_imagem]))\n",
    "        imagem_atual = pygame.transform.smoothscale(imagem_atual, (largura, altura))\n",
    "        tela.blit(imagem_atual, (0, 0))\n",
    "        pygame.display.flip()\n",
    "\n",
    "        # Capturar o frame atual como uma superfície e ajustar a orientação\n",
    "        frame = pygame.surfarray.array3d(tela)\n",
    "        frame = np.transpose(frame, (1, 0, 2))  # Ajustar a orientação\n",
    "        frames.append(frame)\n",
    "\n",
    "        indice_imagem += 1\n",
    "    else:\n",
    "        rodando = False\n",
    "\n",
    "    clock.tick(10)  # Taxa de atualização da tela em frames por segundo\n",
    "\n",
    "# Finalizar o pygame\n",
    "pygame.quit()\n"
   ]
  },
  {
   "cell_type": "code",
   "execution_count": 25,
   "metadata": {},
   "outputs": [],
   "source": [
    "# Caminho onde você deseja salvar o vídeo\n",
    "caminho_video = 'C:/Users/willi/OneDrive/Documentos/DataScience/peso_Oliver/animacao.mp4'\n",
    "\n",
    "# Salvar os frames como um vídeo usando imageio\n",
    "with imageio.get_writer(caminho_video, fps=2) as writer:\n",
    "    for frame in frames:\n",
    "        writer.append_data(frame)"
   ]
  }
 ],
 "metadata": {
  "kernelspec": {
   "display_name": "Python 3",
   "language": "python",
   "name": "python3"
  },
  "language_info": {
   "codemirror_mode": {
    "name": "ipython",
    "version": 3
   },
   "file_extension": ".py",
   "mimetype": "text/x-python",
   "name": "python",
   "nbconvert_exporter": "python",
   "pygments_lexer": "ipython3",
   "version": "3.11.4"
  }
 },
 "nbformat": 4,
 "nbformat_minor": 2
}
